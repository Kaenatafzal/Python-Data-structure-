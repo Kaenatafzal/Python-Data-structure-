{
  "nbformat": 4,
  "nbformat_minor": 0,
  "metadata": {
    "colab": {
      "provenance": []
    },
    "kernelspec": {
      "name": "python3",
      "display_name": "Python 3"
    },
    "language_info": {
      "name": "python"
    }
  },
  "cells": [
    {
      "cell_type": "code",
      "execution_count": null,
      "metadata": {
        "id": "iJlGRuDT7MS1"
      },
      "outputs": [],
      "source": []
    },
    {
      "cell_type": "markdown",
      "source": [
        "Pyhton Data Structure Assignment\n",
        "\n",
        "QUESTIONS\n",
        "\n",
        "1. What are data structures, and why are they important?\n",
        "\n",
        " -Data structure is a way of storing and organising of data in a way that it can be accessed and manipulate easily for further use .It is important because it make computer process large amount of data and make code easy to understand.\n",
        "\n",
        "2. Explain the difference between mutable and immutable data types with examples\n",
        "\n",
        "  -Differece between mutable and immutable data types is that in a mutable datatype we can modify the data means we can add, delete,insert etcwhereas in immutable datatype once it is created we cannot modify it means we cannot add,delete or insert any data simple we can change it.exapmle of mutable datatype is list, set and example of immutable data type is list,string.\n",
        "\n",
        "3. What are the main difference between list and tuple in pyhton?\n",
        "\n",
        "  -In python , list is a built-in datatype which store an ordered collection of data where the tuple in list is also a built-in datatype in python which stores an ordered collection of data but the difference is that list is a mutable datatype means we can change or modify the elements of list while tuple is an immutable datatype means we cannaot modify or change it once it is created.\n",
        "\n",
        "4. Describe how dictionaries store data.\n",
        "\n",
        " -Dictonary is a built in datatype in python which stores data in key-value pairs.It is also unorders, mutable and indexed datatype. '{}' is used to define dictionary in pyhton.\n",
        " let us take a example of dictionary\n",
        " d={'name':'kaenat','age':20,'city':'patna'}\n",
        " In this above exapmle ,{} is used to define dictionary and 'name','age' and 'city' are keys whereas 'kaenat',20,'patna' is values . Dictonary always comes with key-value pair.\n",
        "\n",
        "5. Why might you use a set instead of a list in Python?\n",
        "\n",
        " -We use set instead of a list in python beacuse set cannot have multiple occurences of same element means set removes all the duplicate elements from it ,stores unordered data elements and  it is faster for membership operator (in) and also it has various opertions like(union,intersection,difference and symmetric difference) which make it more suitable than list .\n",
        "\n",
        "6. What is a string in Python, and how is it different from a list?\n",
        "\n",
        " - String in a built-in datatype in python. It is a sequence of characters enclosed in a single quote('')or double quote(\"\") used to represent text based data .It is immutable datatype. It is diffrenet from a list as string can contain text based data and list can contain all the data whether it is int,float,complex number etc. list is mutable whereas string is immutable , we cannot add or delete the content of string in pyhton but we can replace it to a new value of strings which makes it different from the list.\n",
        "\n",
        "7. How do tuples ensure data integrity in Python?\n",
        "\n",
        " - Tuples in python is a built-in data type which cannot be modified or changed once it is created means we cannot add, delete ,remove or insert anyhting in a tuple once it is created  as it is immutable. So in this way tuples ensure data integrity in python.\n",
        "\n",
        "8. What is a hash table, and how does it relate to dictionaries in Python?\n",
        "\n",
        " - A hash table is a data structure that uses a hash function to compute an index, or hash code, for each key-value pair. The hash code determines which bucket in an array of buckets the data is stored in. This allows for quick access to data if the index is known.\n",
        " Python dictionaries are implemented using hash tables and the open addressing collision resolution method. The keys in a Python dictionary are generated using a hashing function.\n",
        "\n",
        "9. Can lists contain different data types in Python?\n",
        "\n",
        " - Yes , list can contain different data types in python  as list stores heterogenous data means it stores int, float ,string,boolean,complex number etc.\n",
        "\n",
        "10. Explain why strings are immutable in Python.\n",
        "\n",
        " - strings are immutable in python because once it is created it cannot be changed after . We cannot change or modify the elements of string .\n",
        " let us take an example\n",
        " a=\"america\"\n",
        " a[0]=\"b\"\n",
        " this throws an error as I'm trying to change the value of 0th index which is a into b . This shows that string is immutable.\n",
        "\n",
        "11. What advantages do dictionaries offer over lists for certain tasks?\n",
        "\n",
        " -Dictionary offer advantages over lists as dictionary is easy to read, fast memory efficient, fast lookups(fast time complexity),flexibility (can store any type of data in key-value pair ),easy to modify etc.\n",
        "\n",
        "12. Describe a scenario where using a tuple would be preferable over a list.\n",
        "\n",
        " - Tuples are immutable in nature means we cannot change the element of tuples once it is created so in case where we dont want to change the data elements throughout the code then we prefer to use tuple over a list.\n",
        "\n",
        "13. How do sets handle duplicate values in Python.\n",
        "\n",
        " - Sets in python remove all the duplicate value from it means if we try to add an element in a set which is already there it simply removes it and doesnot add it into a set .\n",
        "\n",
        "14. How does the “in” keyword work differently for lists and dictionaries?\n",
        "\n",
        " - 'in' is a membership operator in a pyhton . It is used differently in lists and dictionaries as 'in' used in list to check if the valus is an element of the list or not whereas 'in' is used in dictionaries to check if a key is the element of a dictionary or not.\n",
        "\n",
        "15. Can you modify the elements of a tuple? Explain why or why not.\n",
        "\n",
        " - No, we cannot modify the elements of a tuple as it is immutable once it is created we cannot mofify it .\n",
        "\n",
        "16. What is a nested dictionary, and give an example of its use case?\n",
        "\n",
        " - A nested dictionary is a collection of dictionaries within a single dictionary.It is a powerful tool used for storing and orginising data with a multiple layer . Its use case is-\n",
        " Employee records: Organize employees by department, with each employee's details in a nested dictionary.\n",
        "\n",
        "17. Describe the time complexity of accessing elements in a dictionary?\n",
        "\n",
        " - In Python, the average time complexity for accessing an element in a dictionary is O(1), meaning that the time it takes to retrieve an element is constant and doesn't depend on the dictionary's size.But in worst case its time complexity becomes O(n).\n",
        "\n",
        "18. In what situations are lists preferred over dictionaries?\n",
        "\n",
        " - List are preffered over dictionaries when the order of the elements matter as list is a ordered data structure whereas dictionary is an unordered data structure, when we need to store simple sequence of items ,when we need fast indexed based access,when we need to store duplicate value as dictionary donot contain same key value ,when we need to perform operations like slicing , adding , removing etc .\n",
        "\n",
        "19. Why are dictionaries considered unordered, and how does that affect data retrieval?\n",
        "\n",
        " - Before Python 3.7 ,dictionaries were unordered meaning the order in which items were inserted into the dictionary had no effect on their order when we  retrieved them.The keys were stored in the hash table based on their hash values so the indexing were randonmly thats why dictionaries consoder unordered .\n",
        "\n",
        "20. Explain the difference between a list and a dictionary in terms of data retrieval.\n",
        "\n",
        " - List and dictionaries are different in terms of data retrieval as if we want to access the data fromt he list we simple access it by uisng the index number but in dictionary it is an unordered set of key-value means we have to provide a unique key to retrive a data from a dictionary\n",
        " let us understand this by an example\n"
      ],
      "metadata": {
        "id": "L7hUjwM47haq"
      }
    },
    {
      "cell_type": "code",
      "source": [
        "lis=[1,2,3,4]\n",
        "print(lis[0])   #here [0] is the index value of the elements of a list which gives output =1\n",
        "\n",
        "d={'name':'caroline','age':30,'qualification':'data science'}\n",
        "print(d[qualification])    #here [qualificaton] is a key which is used to retreieve an element from the dictionary"
      ],
      "metadata": {
        "id": "ifVgwkYLNkcC"
      },
      "execution_count": null,
      "outputs": []
    },
    {
      "cell_type": "markdown",
      "source": [
        "Practical Questions\n",
        "\n",
        "1. Write a code to create a string with your name and print it."
      ],
      "metadata": {
        "id": "4oCZAxMjOc-i"
      }
    },
    {
      "cell_type": "code",
      "source": [
        "str=\"kaenat afzal\"\n",
        "pirnt(str)"
      ],
      "metadata": {
        "id": "sup_hT-iOsYy"
      },
      "execution_count": null,
      "outputs": []
    },
    {
      "cell_type": "markdown",
      "source": [
        "2. Write a code to find the length of the string \"Hello World\"."
      ],
      "metadata": {
        "id": "DtH_3v-5Oxxd"
      }
    },
    {
      "cell_type": "code",
      "source": [
        "str=\"Hello World\"\n",
        "print(len(str))"
      ],
      "metadata": {
        "id": "mh8Oux5_PGVj"
      },
      "execution_count": null,
      "outputs": []
    },
    {
      "cell_type": "markdown",
      "source": [
        "3. Write a code to slice the first 3 characters from the string \"Python Programming\".\n"
      ],
      "metadata": {
        "id": "KiqhSODhPL9N"
      }
    },
    {
      "cell_type": "code",
      "source": [
        "code='Python Programming'\n",
        "print(code[0:3])"
      ],
      "metadata": {
        "id": "3r2sym1xPSSv"
      },
      "execution_count": null,
      "outputs": []
    },
    {
      "cell_type": "markdown",
      "source": [
        "4. Write a code to convert the string \"hello\" to uppercase.\n"
      ],
      "metadata": {
        "id": "iMKQb1ZOPzzi"
      }
    },
    {
      "cell_type": "code",
      "source": [
        "str=\"hello\"\n",
        "print(str.upper())"
      ],
      "metadata": {
        "id": "ynOxz3KLP4xw"
      },
      "execution_count": null,
      "outputs": []
    },
    {
      "cell_type": "markdown",
      "source": [
        "5. Write a code to replace the word \"apple\" with \"orange\" in the string \"I like apple\"."
      ],
      "metadata": {
        "id": "CYcjG2jFQEJ6"
      }
    },
    {
      "cell_type": "code",
      "source": [
        "str='I like apple.'\n",
        "print(str.replace('apple','orange'))\n"
      ],
      "metadata": {
        "id": "xAx67NlNQJnx"
      },
      "execution_count": null,
      "outputs": []
    },
    {
      "cell_type": "markdown",
      "source": [
        "6. Write a code to create a list with numbers 1 to 5 and print it.\n"
      ],
      "metadata": {
        "id": "nEJ_G20aRU6n"
      }
    },
    {
      "cell_type": "code",
      "source": [
        "numbers=[1,2,'cat','6+5j',9.8]\n",
        "print(numbers)"
      ],
      "metadata": {
        "id": "b1TVR8eSRdB_"
      },
      "execution_count": null,
      "outputs": []
    },
    {
      "cell_type": "markdown",
      "source": [
        "7. Write a code to append the number 10 to the list [1, 2, 3, 4]."
      ],
      "metadata": {
        "id": "fyjEPa-wRjyV"
      }
    },
    {
      "cell_type": "code",
      "source": [
        "num=[1,2,3,4]\n",
        "num.append(10)\n",
        "print(num)"
      ],
      "metadata": {
        "id": "codVmEjWRql7"
      },
      "execution_count": null,
      "outputs": []
    },
    {
      "cell_type": "markdown",
      "source": [
        "8. Write a code to remove the number 3 from the list [1, 2, 3, 4, 5]."
      ],
      "metadata": {
        "id": "ZoOXhI-sSGaz"
      }
    },
    {
      "cell_type": "code",
      "source": [
        "num=[1,2,3,4,5]\n",
        "num.remove(3)\n",
        "print(num)"
      ],
      "metadata": {
        "id": "SSCbST_3SK0Q"
      },
      "execution_count": null,
      "outputs": []
    },
    {
      "cell_type": "markdown",
      "source": [
        "9. Write a code to access the second element in the list ['a', 'b', 'c', 'd'].\n"
      ],
      "metadata": {
        "id": "K_A8xxN0Sbw_"
      }
    },
    {
      "cell_type": "code",
      "source": [
        "lis=['a','b','c','d']\n",
        "print(lis[1])"
      ],
      "metadata": {
        "colab": {
          "base_uri": "https://localhost:8080/"
        },
        "id": "ufeRxRCVSg_R",
        "outputId": "77c15d67-59ca-4572-c6d7-8c8650a0e68a"
      },
      "execution_count": 2,
      "outputs": [
        {
          "output_type": "stream",
          "name": "stdout",
          "text": [
            "b\n"
          ]
        }
      ]
    },
    {
      "cell_type": "markdown",
      "source": [
        "10. Write a code to reverse the list [10, 20, 30, 40, 50]."
      ],
      "metadata": {
        "id": "D2ZXHFhoSqyu"
      }
    },
    {
      "cell_type": "code",
      "source": [
        "lis=[10,20,30,40,50]\n",
        "print(lis[::-1])"
      ],
      "metadata": {
        "colab": {
          "base_uri": "https://localhost:8080/"
        },
        "id": "lokBlcwKSv4b",
        "outputId": "3afb1e5e-c1c6-4472-8551-aa4f761b2754"
      },
      "execution_count": 4,
      "outputs": [
        {
          "output_type": "stream",
          "name": "stdout",
          "text": [
            "[50, 40, 30, 20, 10]\n"
          ]
        }
      ]
    },
    {
      "cell_type": "markdown",
      "source": [
        "11. Write a code to reverse the list [10, 20, 30, 40, 50]."
      ],
      "metadata": {
        "id": "KZfO36cbS6JR"
      }
    },
    {
      "cell_type": "markdown",
      "source": [
        "12. Write a code to access the first element of the tuple ('apple','banana','cherry')"
      ],
      "metadata": {
        "id": "iLSUNEL2WULf"
      }
    },
    {
      "cell_type": "code",
      "source": [
        "tup=('apple','banana','cherry')\n",
        "print(tup[0])"
      ],
      "metadata": {
        "colab": {
          "base_uri": "https://localhost:8080/"
        },
        "id": "iPnPqMpHWm7l",
        "outputId": "42c67711-3995-4800-d8d8-86a1812838eb"
      },
      "execution_count": 5,
      "outputs": [
        {
          "output_type": "stream",
          "name": "stdout",
          "text": [
            "apple\n"
          ]
        }
      ]
    },
    {
      "cell_type": "markdown",
      "source": [
        "13.  Write a code to count how many times the number 2 appears in the tuple (1, 2, 3, 2, 4, 2)."
      ],
      "metadata": {
        "id": "u9oBzVtjWxZ3"
      }
    },
    {
      "cell_type": "code",
      "source": [
        "tup=(1,2,3,2,4,2)\n",
        "print(tup.count(2))"
      ],
      "metadata": {
        "colab": {
          "base_uri": "https://localhost:8080/"
        },
        "id": "Cd8OCxQhW5eQ",
        "outputId": "98117500-33ac-4729-94ff-5dd0d56ac8c2"
      },
      "execution_count": 6,
      "outputs": [
        {
          "output_type": "stream",
          "name": "stdout",
          "text": [
            "3\n"
          ]
        }
      ]
    },
    {
      "cell_type": "markdown",
      "source": [
        "14.  Write a code to find the index of the element \"cat\" in the tuple ('dog', 'cat', 'rabbit').\n"
      ],
      "metadata": {
        "id": "wWmlwp4_XBhC"
      }
    },
    {
      "cell_type": "code",
      "source": [
        "tup=('dog','cat','rabbit')\n",
        "print(tup.index('cat'))"
      ],
      "metadata": {
        "colab": {
          "base_uri": "https://localhost:8080/"
        },
        "id": "MpDLqj4bXHt6",
        "outputId": "d3687f33-8607-4d4e-fc6a-0df2007c4e6c"
      },
      "execution_count": 7,
      "outputs": [
        {
          "output_type": "stream",
          "name": "stdout",
          "text": [
            "1\n"
          ]
        }
      ]
    },
    {
      "cell_type": "markdown",
      "source": [
        "15.  Write a code to check if the element \"banana\" is in the tuple ('apple', 'orange', 'banana')."
      ],
      "metadata": {
        "id": "9-Q9tBciXRex"
      }
    },
    {
      "cell_type": "code",
      "source": [
        "tup=('apple','orange','banana')\n",
        "if 'banana'in tup:\n",
        "  print(\"banana is present\")\n",
        "else:\n",
        "  print(\"not present\")"
      ],
      "metadata": {
        "colab": {
          "base_uri": "https://localhost:8080/"
        },
        "id": "-x35gWaQXX5p",
        "outputId": "4659ba0e-da28-49f6-d608-913539bd8073"
      },
      "execution_count": 8,
      "outputs": [
        {
          "output_type": "stream",
          "name": "stdout",
          "text": [
            "banana is present\n"
          ]
        }
      ]
    },
    {
      "cell_type": "markdown",
      "source": [
        "16.  Write a code to create a set with elements 1,2,3,4,5 ad print it."
      ],
      "metadata": {
        "id": "Q3MSPedzXrVp"
      }
    },
    {
      "cell_type": "code",
      "source": [
        "set={1,2,3,4,5}\n",
        "print(set)"
      ],
      "metadata": {
        "colab": {
          "base_uri": "https://localhost:8080/"
        },
        "id": "LtPdR376X4Ni",
        "outputId": "c839f444-129a-4487-f284-44094e752a11"
      },
      "execution_count": 9,
      "outputs": [
        {
          "output_type": "stream",
          "name": "stdout",
          "text": [
            "{1, 2, 3, 4, 5}\n"
          ]
        }
      ]
    },
    {
      "cell_type": "markdown",
      "source": [
        "17.  Write a code to add the element 6 to the set {1, 2, 3, 4}."
      ],
      "metadata": {
        "id": "RRBbw7N5X9co"
      }
    },
    {
      "cell_type": "code",
      "source": [
        "set={1,2,3,4}\n",
        "set.add(6)\n",
        "print(set)"
      ],
      "metadata": {
        "colab": {
          "base_uri": "https://localhost:8080/"
        },
        "id": "mvqiwz5cYC6q",
        "outputId": "ffd1c3ea-e635-40d5-91b6-1c3f851ec63a"
      },
      "execution_count": 11,
      "outputs": [
        {
          "output_type": "stream",
          "name": "stdout",
          "text": [
            "{1, 2, 3, 4, 6}\n"
          ]
        }
      ]
    },
    {
      "cell_type": "markdown",
      "source": [
        "18.  Write a code to create a tuple with the elements 10, 20, 30 and print it."
      ],
      "metadata": {
        "id": "y9_J-awEYQXf"
      }
    },
    {
      "cell_type": "code",
      "source": [
        "tup=(10,20,30)\n",
        "print(tup)"
      ],
      "metadata": {
        "colab": {
          "base_uri": "https://localhost:8080/"
        },
        "id": "qRwllOThYY9X",
        "outputId": "6aed5e71-e40f-45b3-9c90-f947f01cc51d"
      },
      "execution_count": 12,
      "outputs": [
        {
          "output_type": "stream",
          "name": "stdout",
          "text": [
            "(10, 20, 30)\n"
          ]
        }
      ]
    },
    {
      "cell_type": "markdown",
      "source": [
        "19. Write a code to access the first element of the tuple ('apple', 'banana', 'cherry')."
      ],
      "metadata": {
        "id": "Vbo4RwcMYeWj"
      }
    },
    {
      "cell_type": "code",
      "source": [
        "tup=('apple','banana','cherry')\n",
        "print(tup[0])"
      ],
      "metadata": {
        "colab": {
          "base_uri": "https://localhost:8080/"
        },
        "id": "DZWP3yXSYiwU",
        "outputId": "23205e6d-d037-4bd8-b03d-5ca68ae062af"
      },
      "execution_count": 13,
      "outputs": [
        {
          "output_type": "stream",
          "name": "stdout",
          "text": [
            "apple\n"
          ]
        }
      ]
    },
    {
      "cell_type": "markdown",
      "source": [
        "20.  Write a code to count how many times the number 2 appears in the tuple (1, 2, 3, 2, 4, 2)."
      ],
      "metadata": {
        "id": "oBNme7l2Yq0p"
      }
    },
    {
      "cell_type": "code",
      "source": [
        "tup=(1,2,3,2,4,2)\n",
        "print(tup.count(2))"
      ],
      "metadata": {
        "colab": {
          "base_uri": "https://localhost:8080/"
        },
        "id": "BkOp6AoDYwng",
        "outputId": "92929c31-b4e1-49ca-800d-50ce08665156"
      },
      "execution_count": 14,
      "outputs": [
        {
          "output_type": "stream",
          "name": "stdout",
          "text": [
            "3\n"
          ]
        }
      ]
    },
    {
      "cell_type": "markdown",
      "source": [
        "21.  Write a code to find the index of the element \"cat\" in the tuple ('dog', 'cat', 'rabbit')."
      ],
      "metadata": {
        "id": "_E2Dtcg-Y3Mb"
      }
    },
    {
      "cell_type": "code",
      "source": [
        "tup=('dog','cat','rabbit')\n",
        "print(tup.index('cat'))"
      ],
      "metadata": {
        "colab": {
          "base_uri": "https://localhost:8080/"
        },
        "id": "wgPTHqCpY8OX",
        "outputId": "fb6bd87e-605c-49b3-dd28-41ebf8e6603b"
      },
      "execution_count": 15,
      "outputs": [
        {
          "output_type": "stream",
          "name": "stdout",
          "text": [
            "1\n"
          ]
        }
      ]
    },
    {
      "cell_type": "markdown",
      "source": [
        "22.  Write a code to check if the element \"banana\" is in the tuple ('apple', 'orange', 'banana')."
      ],
      "metadata": {
        "id": "MjvYnD0GZFoh"
      }
    },
    {
      "cell_type": "code",
      "source": [
        "fruits=('apple','orange','banana')\n",
        "if 'banana' in fruits:\n",
        "  print(\"banana is present\")\n",
        "else:\n",
        "  print(\"not present\")"
      ],
      "metadata": {
        "colab": {
          "base_uri": "https://localhost:8080/"
        },
        "id": "TdgSpdyAZJ4I",
        "outputId": "34f82104-c243-43f1-b9f6-07f377295018"
      },
      "execution_count": 16,
      "outputs": [
        {
          "output_type": "stream",
          "name": "stdout",
          "text": [
            "banana is present\n"
          ]
        }
      ]
    },
    {
      "cell_type": "markdown",
      "source": [
        "23. Write a code to create a set with the elements 1, 2, 3, 4, 5 and print it."
      ],
      "metadata": {
        "id": "WBzMideqZfQr"
      }
    },
    {
      "cell_type": "code",
      "source": [
        "num={1,2,3,4,5}\n",
        "print(num)"
      ],
      "metadata": {
        "colab": {
          "base_uri": "https://localhost:8080/"
        },
        "id": "FACp-K7nZlVF",
        "outputId": "94854ccc-cc88-47e5-efa8-0ea6fef20e27"
      },
      "execution_count": 17,
      "outputs": [
        {
          "output_type": "stream",
          "name": "stdout",
          "text": [
            "{1, 2, 3, 4, 5}\n"
          ]
        }
      ]
    },
    {
      "cell_type": "markdown",
      "source": [
        "24.  Write a code to add the element 6 to the set {1, 2, 3, 4}."
      ],
      "metadata": {
        "id": "Oxll9qCcZudz"
      }
    },
    {
      "cell_type": "code",
      "source": [
        "set={1,2,3,4}\n",
        "set.add(6)\n",
        "print(set)"
      ],
      "metadata": {
        "colab": {
          "base_uri": "https://localhost:8080/"
        },
        "id": "52hr6r0OZz_w",
        "outputId": "f3e820a1-e6e6-4699-aac5-0fdc8494868f"
      },
      "execution_count": 19,
      "outputs": [
        {
          "output_type": "stream",
          "name": "stdout",
          "text": [
            "{1, 2, 3, 4, 6}\n"
          ]
        }
      ]
    },
    {
      "cell_type": "markdown",
      "source": [],
      "metadata": {
        "id": "m9tHjiBHWzNt"
      }
    },
    {
      "cell_type": "code",
      "source": [],
      "metadata": {
        "id": "pEfbzMLVO41v"
      },
      "execution_count": null,
      "outputs": []
    },
    {
      "cell_type": "markdown",
      "source": [],
      "metadata": {
        "id": "MbazRcWv7fMy"
      }
    }
  ]
}